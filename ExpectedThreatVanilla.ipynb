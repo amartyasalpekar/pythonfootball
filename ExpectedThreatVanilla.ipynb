{
 "cells": [
  {
   "cell_type": "code",
   "execution_count": 2,
   "id": "4786951a",
   "metadata": {},
   "outputs": [],
   "source": [
    "import numpy as np"
   ]
  },
  {
   "cell_type": "code",
   "execution_count": 5,
   "id": "fd780616",
   "metadata": {},
   "outputs": [],
   "source": [
    "A= np.matrix([[0.25, 0.20, 0.1], [0.1, 0.25, 0.2], [0.1, 0.1, 0.25]])\n",
    "\n",
    "g = np.transpose(np.matrix([0.05, 0.15, 0.05]))"
   ]
  },
  {
   "cell_type": "markdown",
   "id": "f9c5db36",
   "metadata": {},
   "source": [
    "## Linear Algebra Method \n",
    "\n",
    "    (I-A)xT = g"
   ]
  },
  {
   "cell_type": "code",
   "execution_count": 6,
   "id": "5f929cf5",
   "metadata": {},
   "outputs": [
    {
     "name": "stdout",
     "output_type": "stream",
     "text": [
      "Expected Threat\n",
      "Midfield Box Wing\n",
      "[[0.14991763 0.25205931 0.12026359]]\n"
     ]
    }
   ],
   "source": [
    "xT1 = np.linalg.solve(np.identity(3) - A,g)\n",
    "\n",
    "print ('Expected Threat')\n",
    "print('Midfield', 'Box', 'Wing')\n",
    "print(np.transpose(xT1))"
   ]
  },
  {
   "cell_type": "code",
   "execution_count": 10,
   "id": "1ebfc8e8",
   "metadata": {},
   "outputs": [
    {
     "name": "stdout",
     "output_type": "stream",
     "text": [
      "Expected Threat\n",
      "Midfield Box Wing\n",
      "[[0.14966911 0.25182476 0.12007973]]\n"
     ]
    }
   ],
   "source": [
    "xT2 = np.zeros((3,1))\n",
    "\n",
    "for t in range(10):\n",
    "    xT2 = np.matmul(A,xT2) + g\n",
    "    \n",
    "print ('Expected Threat')\n",
    "print('Midfield', 'Box', 'Wing')\n",
    "print(np.transpose(xT2))  "
   ]
  },
  {
   "cell_type": "code",
   "execution_count": 12,
   "id": "9f91c2cb",
   "metadata": {},
   "outputs": [
    {
     "name": "stdout",
     "output_type": "stream",
     "text": [
      "-------------\n",
      "Start from Central\n",
      "-------------\n",
      " - Central - Wing - Central - Goal!\n",
      " - Central - Central - Out of play\n",
      " - Central - Central - Box - Out of play\n",
      " - Central - Out of play\n",
      " - Central - Central - Out of play\n",
      " - Central - Central - Out of play\n",
      " - Central - Out of play\n",
      " - Central - Central - Box - Out of play\n",
      " - Central - Central - Central - Wing - Goal!\n",
      " - Central - Out of play\n",
      "-------------\n",
      "Start from Wing\n",
      "-------------\n",
      " - Wing - Goal!\n",
      " - Wing - Wing - Wing - Central - Central - Central - Out of play\n",
      " - Wing - Wing - Out of play\n",
      " - Wing - Wing - Box - Out of play\n",
      " - Wing - Goal!\n",
      " - Wing - Out of play\n",
      " - Wing - Box - Central - Out of play\n",
      " - Wing - Box - Wing - Box - Out of play\n",
      " - Wing - Central - Out of play\n",
      " - Wing - Wing - Wing - Box - Out of play\n",
      "-------------\n",
      "Start from Box\n",
      "-------------\n",
      " - Box - Out of play\n",
      " - Box - Out of play\n",
      " - Box - Box - Out of play\n",
      " - Box - Wing - Central - Out of play\n",
      " - Box - Goal!\n",
      " - Box - Goal!\n",
      " - Box - Central - Out of play\n",
      " - Box - Out of play\n",
      " - Box - Box - Out of play\n",
      " - Box - Box - Out of play\n",
      "\n",
      "\n",
      "---------------\n",
      "Expected Threat\n",
      "Central, Box, Wing\n",
      "[[0.2]\n",
      " [0.2]\n",
      " [0.2]]\n"
     ]
    }
   ],
   "source": [
    "num_sims = 10\n",
    "xT3 = np.zeros((3,1))\n",
    "\n",
    "description ={0: 'Central', 1:'Wing', 2: 'Box'}\n",
    "\n",
    "for i in range (3):\n",
    "    num_goals = 0\n",
    "    print('-------------')\n",
    "    print('Start from ' + description[i])\n",
    "    print('-------------')\n",
    "    \n",
    "    for n in range(num_sims):\n",
    "        ballinplay = True\n",
    "        describe_possession=''\n",
    "\n",
    "        s = i\n",
    "        \n",
    "        while ballinplay:\n",
    "            r = np.random.rand()\n",
    "            \n",
    "            describe_possession = describe_possession + ' - ' + description[s]\n",
    "            \n",
    "            c_sum=np.cumsum(A[s,:])\n",
    "            new_s = np.sum(r>c_sum)\n",
    "            if new_s>2:\n",
    "                #Ball is either goal or out of play\n",
    "                ballinplay=False\n",
    "                if r < g[s] + c_sum[0,2]:\n",
    "                    #Its a goal!\n",
    "                    num_goals = num_goals + 1\n",
    "                    describe_possession = describe_possession + ' - Goal!'\n",
    "                else:\n",
    "                    describe_possession = describe_possession + ' - Out of play'\n",
    "            s = new_s\n",
    "\n",
    "        print(describe_possession)\n",
    "\n",
    "    xT3[i] = num_goals/num_sims\n",
    "\n",
    "\n",
    "print('\\n\\n---------------')\n",
    "print('Expected Threat')\n",
    "print('Central, Box, Wing')\n",
    "print(xT3)"
   ]
  },
  {
   "cell_type": "code",
   "execution_count": null,
   "id": "f8867ad5",
   "metadata": {},
   "outputs": [],
   "source": []
  },
  {
   "cell_type": "code",
   "execution_count": null,
   "id": "53a7cadc",
   "metadata": {},
   "outputs": [],
   "source": []
  }
 ],
 "metadata": {
  "kernelspec": {
   "display_name": "Python 3 (ipykernel)",
   "language": "python",
   "name": "python3"
  },
  "language_info": {
   "codemirror_mode": {
    "name": "ipython",
    "version": 3
   },
   "file_extension": ".py",
   "mimetype": "text/x-python",
   "name": "python",
   "nbconvert_exporter": "python",
   "pygments_lexer": "ipython3",
   "version": "3.11.5"
  }
 },
 "nbformat": 4,
 "nbformat_minor": 5
}
